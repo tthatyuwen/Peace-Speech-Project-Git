{
 "cells": [
  {
   "cell_type": "code",
   "execution_count": 1,
   "id": "55a339ab",
   "metadata": {},
   "outputs": [],
   "source": [
    "import pandas as pd\n",
    "import numpy as np\n",
    "from sklearn.feature_extraction.text import CountVectorizer"
   ]
  },
  {
   "cell_type": "code",
   "execution_count": 2,
   "id": "b80cb5c1",
   "metadata": {},
   "outputs": [
    {
     "name": "stderr",
     "output_type": "stream",
     "text": [
      "/Users/ruziheng/opt/anaconda3/envs/tensorflow/lib/python3.7/site-packages/IPython/core/interactiveshell.py:3444: DtypeWarning: Columns (0,1,3,9,10,11) have mixed types.Specify dtype option on import or set low_memory=False.\n",
      "  exec(code_obj, self.user_global_ns, self.user_ns)\n"
     ]
    }
   ],
   "source": [
    "data = pd.read_csv('final_cleaned2.csv')"
   ]
  },
  {
   "cell_type": "code",
   "execution_count": null,
   "id": "a208bba8",
   "metadata": {},
   "outputs": [],
   "source": [
    "# with regular expressions\n",
    "# https://medium.com/mlearning-ai/elon-musks-twitter-sentiment-analysis-with-transformers-hugging-face-roberta-49b9e61b1433\n",
    "# https://www.kaggle.com/code/ludovicocuoghi/twitter-sentiment-analysis-with-bert-roberta/notebook\n",
    "# https://stackoverflow.com/questions/44027943/python-regex-to-remove-emails-from-string\n",
    "\n",
    "def clean_re(tweet):\n",
    "    # remove username\n",
    "    tweet = re.sub('(@[A-Za-z]+[A-Za-z0-9-_]+)', '', tweet) \n",
    "    # remove links\n",
    "    tweet = re.sub(r'http\\S+', '', tweet) \n",
    "    tweet = re.sub(r'bit.ly/\\S+', '', tweet) \n",
    "    tweet = tweet.strip('[link]') \n",
    "    # remove email address\n",
    "    tweet = re.sub(r'[A-Za-z0-9]*@[A-Za-z]*\\.?[A-Za-z0-9]*', \"\", tweet)\n",
    "    # remove special characters\n",
    "    tweet = re.sub('([_]+)', \"\", tweet)\n",
    "    tweet = tweet.replace('\\r', '').replace('\\n', ' ').replace('\\n', ' ').lower()\n",
    "    # remove links\n",
    "    tweet = re.sub(r\"(?:\\@|https?\\://)\\S+\", \"\", tweet)\n",
    "    # remove non-ascii characters\n",
    "    tweet = re.sub(r'[^\\x00-\\x7f]',r'', tweet)\n",
    "    # remove multiple spaces\n",
    "    tweet = re.sub(\"\\s\\s+\" , \" \", tweet)\n",
    "    # remove punctuation\n",
    "    tweet = re.sub(r'[^\\w\\s]', '', tweet)\n",
    "    return tweet"
   ]
  },
  {
   "cell_type": "code",
   "execution_count": null,
   "id": "3bf78759",
   "metadata": {},
   "outputs": [],
   "source": [
    "import nltk\n",
    "nltk.download('words')\n",
    "words = set(nltk.corpus.words.words())\n",
    "data['text2'] = data['text2'].astype(str)\n",
    "data['text2'] = data.text2.apply(func = clean_re)\n",
    "data['text2'] = data['text2'].apply(lambda x: \" \".join(w for w in nltk.wordpunct_tokenize(x) if w.lower() in words or not w.isalpha()))"
   ]
  },
  {
   "cell_type": "code",
   "execution_count": 3,
   "id": "ba08863b",
   "metadata": {},
   "outputs": [],
   "source": [
    "peaceful = ['CA', 'FI', 'GB', 'NO', 'IE', 'AU', 'SG', 'FR']\n",
    "data['peacefulness'] = data.country_code.apply(lambda x: 1 if (x in peaceful) else 0)\n",
    "data = data[data['text2'].notna()]\n",
    "peaceful = data.loc[data['peacefulness'] == 1]\n",
    "peaceful = peaceful[['text2']].copy()\n",
    "nonpeaceful = data.loc[data['peacefulness'] == 0]\n",
    "nonpeaceful = nonpeaceful[['text2']].copy()"
   ]
  },
  {
   "cell_type": "code",
   "execution_count": null,
   "id": "a5f270ef",
   "metadata": {},
   "outputs": [],
   "source": [
    "high_corpus = [' '.join(peaceful['text2'])]\n",
    "print(len(high_corpus[0].split()))"
   ]
  },
  {
   "cell_type": "code",
   "execution_count": null,
   "id": "ba77835a",
   "metadata": {},
   "outputs": [],
   "source": [
    "low_corpus = [' '.join(nonpeaceful['text2'])]\n",
    "print(len(low_corpus[0].split()))"
   ]
  },
  {
   "cell_type": "code",
   "execution_count": 4,
   "id": "dc41389a",
   "metadata": {},
   "outputs": [],
   "source": [
    "tight = ['restrain', 'prevent', 'comply', 'constrain', 'uniformity', 'adhere', 'enforce', 'proscribe', 'abide',\n",
    "         'dictate', 'circumscribe', 'impose', 'uphold', 'discourage', 'compel', 'forbid', 'confine', 'govern', \n",
    "         'prohibit', 'preclude']\n",
    "loose = ['allow', 'freedom', 'create', 'variability', 'autonomy', 'openness', 'leeway', 'flexibility', \n",
    "         'broadmindedness', 'transformatory', 'customize', 'subjectivities', 'modify', 'limitless', 'empower',   \n",
    "         'adaptiveness', 'pluralism', 'personalize', 'encourage', 'diverse']"
   ]
  },
  {
   "cell_type": "code",
   "execution_count": 27,
   "id": "c27ee6a7",
   "metadata": {},
   "outputs": [],
   "source": [
    "nonpeaceful['loose'] = [' '.join([item for item in x.split() if item in loose]) for x in nonpeaceful['text2']]\n",
    "nonpeaceful['tight'] = [' '.join([item for item in x.split() if item in tight]) for x in nonpeaceful['text2']]"
   ]
  },
  {
   "cell_type": "code",
   "execution_count": 28,
   "id": "4e783b9d",
   "metadata": {},
   "outputs": [],
   "source": [
    "peaceful['loose'] = [' '.join([item for item in x.split() if item in loose]) for x in peaceful['text2']]\n",
    "peaceful['tight'] = [' '.join([item for item in x.split() if item in tight]) for x in peaceful['text2']]"
   ]
  },
  {
   "cell_type": "code",
   "execution_count": 32,
   "id": "83e91f78",
   "metadata": {},
   "outputs": [
    {
     "data": {
      "text/plain": [
       "97"
      ]
     },
     "execution_count": 32,
     "metadata": {},
     "output_type": "execute_result"
    }
   ],
   "source": [
    "# https://stackoverflow.com/questions/46786211/counting-the-frequency-of-words-in-a-pandas-data-frame\n",
    "pd.Series(' '.join(nonpeaceful.tight).split()).value_counts().sum()"
   ]
  },
  {
   "cell_type": "code",
   "execution_count": 31,
   "id": "43b53425",
   "metadata": {},
   "outputs": [
    {
     "data": {
      "text/plain": [
       "prevent       30\n",
       "abide         11\n",
       "uphold         8\n",
       "discourage     8\n",
       "dictate        6\n",
       "forbid         6\n",
       "enforce        6\n",
       "govern         6\n",
       "adhere         4\n",
       "impose         4\n",
       "comply         3\n",
       "restrain       2\n",
       "compel         2\n",
       "prohibit       1\n",
       "dtype: int64"
      ]
     },
     "execution_count": 31,
     "metadata": {},
     "output_type": "execute_result"
    }
   ],
   "source": [
    "pd.Series(' '.join(nonpeaceful.tight).split()).value_counts()"
   ]
  },
  {
   "cell_type": "code",
   "execution_count": 33,
   "id": "d4aded4a",
   "metadata": {},
   "outputs": [
    {
     "data": {
      "text/plain": [
       "587"
      ]
     },
     "execution_count": 33,
     "metadata": {},
     "output_type": "execute_result"
    }
   ],
   "source": [
    "pd.Series(' '.join(nonpeaceful.loose).split()).value_counts().sum()"
   ]
  },
  {
   "cell_type": "code",
   "execution_count": 23,
   "id": "5bbc05d3",
   "metadata": {},
   "outputs": [
    {
     "data": {
      "text/plain": [
       "freedom        209\n",
       "create         172\n",
       "allow          125\n",
       "encourage       27\n",
       "empower         23\n",
       "diverse         10\n",
       "flexibility      8\n",
       "customize        7\n",
       "limitless        3\n",
       "modify           3\n",
       "dtype: int64"
      ]
     },
     "execution_count": 23,
     "metadata": {},
     "output_type": "execute_result"
    }
   ],
   "source": [
    "pd.Series(' '.join(nonpeaceful.loose).split()).value_counts()"
   ]
  },
  {
   "cell_type": "code",
   "execution_count": 35,
   "id": "83c6386d",
   "metadata": {},
   "outputs": [
    {
     "data": {
      "text/plain": [
       "79"
      ]
     },
     "execution_count": 35,
     "metadata": {},
     "output_type": "execute_result"
    }
   ],
   "source": [
    "pd.Series(' '.join(peaceful.tight).split()).value_counts().sum()"
   ]
  },
  {
   "cell_type": "code",
   "execution_count": 36,
   "id": "f23f17ce",
   "metadata": {},
   "outputs": [
    {
     "data": {
      "text/plain": [
       "prevent       20\n",
       "govern        11\n",
       "enforce       11\n",
       "abide          7\n",
       "uphold         6\n",
       "dictate        5\n",
       "impose         5\n",
       "discourage     3\n",
       "forbid         3\n",
       "comply         3\n",
       "compel         2\n",
       "prohibit       1\n",
       "restrain       1\n",
       "adhere         1\n",
       "dtype: int64"
      ]
     },
     "execution_count": 36,
     "metadata": {},
     "output_type": "execute_result"
    }
   ],
   "source": [
    "pd.Series(' '.join(peaceful.tight).split()).value_counts()"
   ]
  },
  {
   "cell_type": "code",
   "execution_count": 34,
   "id": "acc33640",
   "metadata": {},
   "outputs": [
    {
     "data": {
      "text/plain": [
       "365"
      ]
     },
     "execution_count": 34,
     "metadata": {},
     "output_type": "execute_result"
    }
   ],
   "source": [
    "pd.Series(' '.join(peaceful.loose).split()).value_counts().sum()"
   ]
  },
  {
   "cell_type": "code",
   "execution_count": 26,
   "id": "42c8231c",
   "metadata": {},
   "outputs": [
    {
     "data": {
      "text/plain": [
       "create         122\n",
       "freedom        111\n",
       "allow           66\n",
       "encourage       22\n",
       "diverse         15\n",
       "flexibility      8\n",
       "autonomy         6\n",
       "limitless        4\n",
       "empower          4\n",
       "customize        3\n",
       "leeway           2\n",
       "openness         2\n",
       "dtype: int64"
      ]
     },
     "execution_count": 26,
     "metadata": {},
     "output_type": "execute_result"
    }
   ],
   "source": [
    "pd.Series(' '.join(peaceful.loose).split()).value_counts()"
   ]
  }
 ],
 "metadata": {
  "kernelspec": {
   "display_name": "Python 3 (ipykernel)",
   "language": "python",
   "name": "python3"
  },
  "language_info": {
   "codemirror_mode": {
    "name": "ipython",
    "version": 3
   },
   "file_extension": ".py",
   "mimetype": "text/x-python",
   "name": "python",
   "nbconvert_exporter": "python",
   "pygments_lexer": "ipython3",
   "version": "3.7.11"
  }
 },
 "nbformat": 4,
 "nbformat_minor": 5
}
